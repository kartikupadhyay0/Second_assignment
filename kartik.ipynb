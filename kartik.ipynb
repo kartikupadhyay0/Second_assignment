{
 "cells": [
  {
   "cell_type": "markdown",
   "metadata": {},
   "source": [
    "1. String Slicing in Python\n",
    "    String slicing allows you to extract a portion of a string using a specific syntax. The general syntax is:"
   ]
  },
  {
   "cell_type": "code",
   "execution_count": null,
   "metadata": {},
   "outputs": [],
   "source": [
    "string[start:end:step]"
   ]
  },
  {
   "cell_type": "markdown",
   "metadata": {},
   "source": [
    "start: The index where the slice starts (inclusive).\n",
    "end: The index where the slice ends (exclusive).\n",
    "step: The increment between each index (optional).\n",
    "Examples:"
   ]
  },
  {
   "cell_type": "code",
   "execution_count": null,
   "metadata": {},
   "outputs": [],
   "source": [
    "text = \"Hello, World!\"\n",
    "\n",
    "# Slice from index 0 to 5\n",
    "print(text[0:5])  # Output: Hello\n",
    "\n",
    "# Slice from index 7 to the end\n",
    "print(text[7:])   # Output: World!\n",
    "\n",
    "# Slice with a step of 2\n",
    "print(text[::2])  # Output: Hlo ol!"
   ]
  }
 ],
 "metadata": {
  "language_info": {
   "name": "python"
  }
 },
 "nbformat": 4,
 "nbformat_minor": 2
}
